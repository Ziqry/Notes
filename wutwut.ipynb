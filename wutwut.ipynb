{
 "cells": [
  {
   "cell_type": "markdown",
   "metadata": {},
   "source": [
    "- what do we do with outliers?\n",
    "- which ml algorithm can perform well with outliers and which dont?"
   ]
  },
  {
   "cell_type": "markdown",
   "metadata": {},
   "source": [
    "# Importing Libraries"
   ]
  },
  {
   "cell_type": "code",
   "execution_count": null,
   "metadata": {},
   "outputs": [
    {
     "ename": "",
     "evalue": "",
     "output_type": "error",
     "traceback": [
      "\u001b[1;31mThe Kernel crashed while executing code in the current cell or a previous cell. \n",
      "\u001b[1;31mPlease review the code in the cell(s) to identify a possible cause of the failure. \n",
      "\u001b[1;31mClick <a href='https://aka.ms/vscodeJupyterKernelCrash'>here</a> for more info. \n",
      "\u001b[1;31mView Jupyter <a href='command:jupyter.viewOutput'>log</a> for further details."
     ]
    }
   ],
   "source": [
    "import pandas as pd\n",
    "import numpy as np"
   ]
  },
  {
   "cell_type": "markdown",
   "metadata": {},
   "source": [
    "# Reading files"
   ]
  },
  {
   "cell_type": "code",
   "execution_count": null,
   "metadata": {},
   "outputs": [],
   "source": [
    "path = 'D:/...'\n",
    "filename = '....xlsx/csv'\n",
    "df = pd.read_excel(path + filename)\n",
    "df = pd.read_csv(path + filename)\n",
    "\n",
    "# to upload files into google colab\n",
    "from google.colab import files\n",
    "uploaded = files.upload()\n"
   ]
  },
  {
   "cell_type": "markdown",
   "metadata": {},
   "source": [
    "# Data Cleaning"
   ]
  },
  {
   "cell_type": "code",
   "execution_count": null,
   "metadata": {},
   "outputs": [],
   "source": [
    "# remove duplicate rows\n",
    "df = df.drop_duplicates()\n",
    "\n",
    "# Fill missing values in a column with the column mean\n",
    "df['column_name'].fillna(df['column_name'].mean(), inplace=True)\n",
    "# Fill missing values in a column with the column mode\n",
    "df['column_name'].fillna(df['column_name'].mode(), inplace=True)\n",
    "\n",
    "# print original data and cleaned data to compare\n",
    "print(\"Original Data:\")\n",
    "print(df)\n",
    "print(\"\\nCleaned Data:\")\n",
    "print(df_2)"
   ]
  },
  {
   "cell_type": "markdown",
   "metadata": {},
   "source": [
    "# Data Integration"
   ]
  },
  {
   "cell_type": "code",
   "execution_count": null,
   "metadata": {},
   "outputs": [],
   "source": [
    "# Merge datasets on a similar column\n",
    "merged_data = pd.merge(df_1, df_2, on='similar_column', how='left')"
   ]
  },
  {
   "cell_type": "markdown",
   "metadata": {},
   "source": [
    "# Data Tranformation\n",
    "### Encoding categorical data\n",
    "- Categorical data is encoded to convert categorical data or tect data into numerical format\n",
    "- most ML algorithms work only with numerical data\n",
    "- encoding also helps to prevent bias in the model by ensuring that all features are equally weighted\n",
    "\n",
    "### Data normalization\n",
    "- is a form of feature scaling that transforms the range of features to a standard scale\n",
    "- data scaling is required when the dataset has features of varying ranges\n",
    "- normalized data enhance model performance and improve the accuracy of a model.\n",
    "- it helps algorithms that rely on distance metrics such as, KNN & SVM"
   ]
  },
  {
   "cell_type": "code",
   "execution_count": null,
   "metadata": {},
   "outputs": [],
   "source": [
    "# Encode categorical variable column using one-hot encoding\n",
    "df = pd.get_dummies(df, columns=['column_name'], drop_first=True)\n",
    "# can remove the \"drop_first=True\" as alternative\n",
    "df = pd.get_dummies(df, columns=['column_name'])\n",
    "\n",
    "# Normalize 'Income' column using Min-Max scaling\n",
    "df['Income_Normalized'] = (\n",
    "    (df['Income'] - df['Income'].min()) /\n",
    "    (df['Income'].max() - df['Income'].min())\n",
    ")\n",
    "\n",
    "# Convert EnrollmentDate to datetime\n",
    "df['column_name'] = pd.to_datetime(df['column_name'])"
   ]
  },
  {
   "cell_type": "markdown",
   "metadata": {},
   "source": [
    "# Data Reduction"
   ]
  },
  {
   "cell_type": "code",
   "execution_count": null,
   "metadata": {},
   "outputs": [],
   "source": [
    "# Drop columns that are not useful for analysis\n",
    "df_3 = df.drop(columns=['ID', 'client_name'])"
   ]
  },
  {
   "cell_type": "code",
   "execution_count": null,
   "metadata": {},
   "outputs": [],
   "source": []
  }
 ],
 "metadata": {
  "kernelspec": {
   "display_name": "base",
   "language": "python",
   "name": "python3"
  },
  "language_info": {
   "codemirror_mode": {
    "name": "ipython",
    "version": 3
   },
   "file_extension": ".py",
   "mimetype": "text/x-python",
   "name": "python",
   "nbconvert_exporter": "python",
   "pygments_lexer": "ipython3",
   "version": "3.12.4"
  }
 },
 "nbformat": 4,
 "nbformat_minor": 2
}
